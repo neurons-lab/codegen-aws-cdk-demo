{
 "cells": [
  {
   "cell_type": "code",
   "execution_count": 1,
   "metadata": {},
   "outputs": [],
   "source": [
    "from typing import List\n",
    "import os\n",
    "\n",
    "from qdrant_client import QdrantClient\n",
    "from langchain_community.vectorstores import Qdrant\n",
    "from langchain import hub\n",
    "from langchain.agents import AgentExecutor\n",
    "from langchain.agents.format_scratchpad import format_log_to_str\n",
    "from langchain.agents.output_parsers import ReActJsonSingleInputOutputParser\n",
    "from langchain.tools.render import render_text_description\n",
    "from langchain_core.pydantic_v1 import BaseModel"
   ]
  },
  {
   "cell_type": "code",
   "execution_count": 2,
   "metadata": {},
   "outputs": [
    {
     "name": "stderr",
     "output_type": "stream",
     "text": [
      "/Users/artemkobrin/repositories/nl/mistral_agent/.venv/lib/python3.11/site-packages/tqdm/auto.py:21: TqdmWarning: IProgress not found. Please update jupyter and ipywidgets. See https://ipywidgets.readthedocs.io/en/stable/user_install.html\n",
      "  from .autonotebook import tqdm as notebook_tqdm\n"
     ]
    }
   ],
   "source": [
    "from ai_bot_libs.ai_bot import (\n",
    "    remove_special_chars,\n",
    "    get_cl_llm,\n",
    "    get_bedrock_embeddings,\n",
    "    case_study_search,\n",
    "    crawl_webpages_vector,\n",
    "    remove_tags,\n",
    "    clean_crawled_text_pages,\n",
    "    google_search,\n",
    ")\n",
    "\n",
    "# Bedrock LLM object\n",
    "cl_llm = get_cl_llm()\n",
    "# Bedrock Embeddings object\n",
    "embedding = get_bedrock_embeddings()\n",
    "\n",
    "# aws cdk documentation\n",
    "website = \"https://docs.aws.amazon.com/cdk/api/v2/python/\""
   ]
  },
  {
   "cell_type": "code",
   "execution_count": 3,
   "metadata": {},
   "outputs": [],
   "source": [
    "# run only once to get the embeddings of the website\n",
    "# website_qdrant = crawl_webpages_vector(\n",
    "#                 website,\n",
    "#                 collection_name=\"aws_cdk\",\n",
    "#                 embedding=embedding,\n",
    "#                 num_pages=10,\n",
    "#     )"
   ]
  },
  {
   "cell_type": "code",
   "execution_count": 4,
   "metadata": {},
   "outputs": [],
   "source": [
    "QDRANT_API_KEY = os.getenv(\"QDRANT_API_KEY\")\n",
    "QDRANT_URL=os.getenv(\"QDRANT_URL\")\n",
    "qdrant_client = QdrantClient(\n",
    "    url=QDRANT_URL,\n",
    "    api_key=QDRANT_API_KEY,\n",
    ")\n",
    "\n",
    "# Qdrant Remote with Use Cases\n",
    "qdrant_aws_cdk_remote = Qdrant(\n",
    "    client=qdrant_client,\n",
    "    collection_name=\"aws_cdk\", \n",
    "    embeddings=embedding,\n",
    ")\n",
    "\n",
    "retriever = qdrant_aws_cdk_remote.as_retriever(\n",
    "    search_kwargs={'k': 10},\n",
    ")"
   ]
  },
  {
   "cell_type": "code",
   "execution_count": 5,
   "metadata": {},
   "outputs": [],
   "source": [
    "retriever.get_relevant_documents(\"python aws cdk aws vpc\")\n",
    "\n",
    "concatenated_content = \"\"\n",
    "for doc in retriever.get_relevant_documents(\"python aws cdk aws vpc\"):\n",
    "    concatenated_content += doc.page_content + \"\\n\""
   ]
  },
  {
   "cell_type": "code",
   "execution_count": 6,
   "metadata": {},
   "outputs": [
    {
     "name": "stderr",
     "output_type": "stream",
     "text": [
      "/Users/artemkobrin/repositories/nl/mistral_agent/.venv/lib/python3.11/site-packages/langchain_core/_api/deprecation.py:117: LangChainDeprecationWarning: The function `run` was deprecated in LangChain 0.1.0 and will be removed in 0.2.0. Use invoke instead.\n",
      "  warn_deprecated(\n"
     ]
    },
    {
     "data": {
      "text/plain": [
       "'Here\\'s an example AWS CDK Python code to create a VPC with 2 subnets in different availability zones:\\n\\n```python\\nfrom aws_cdk import (\\n    Stack,\\n    aws_ec2 as ec2,\\n    App\\n)\\nfrom constructs import Construct\\n\\nclass VpcStack(Stack):\\n\\n    def __init__(self, scope: Construct, construct_id: str, **kwargs) -> None:\\n        super().__init__(scope, construct_id, **kwargs)\\n\\n        # Create a VPC\\n        vpc = ec2.Vpc(\\n            self, \"MyVpc\",\\n            max_azs=2,  # Create subnets in 2 availability zones\\n            cidr=\"10.0.0.0/16\",\\n            subnet_configuration=[\\n                ec2.SubnetConfiguration(\\n                    name=\"Public\",\\n                    subnet_type=ec2.SubnetType.PUBLIC,\\n                    cidr_mask=24\\n                ),\\n                ec2.SubnetConfiguration(\\n                    name=\"Private\",\\n                    subnet_type=ec2.SubnetType.PRIVATE_WITH_NAT,\\n                    cidr_mask=24\\n                )\\n            ],\\n            nat_gateways=1  # Create a NAT Gateway for the private subnets\\n        )\\n\\n# Create the app and stack\\napp = App()\\nVpcStack(app, \"VpcStack\")\\n\\n# Synthesize the CloudFormation template\\napp.synth()\\n```\\n\\nIn this example, we create a `VpcStack` that extends the `Stack` class from the AWS CDK. Inside the `__init__` method, we create a new VPC using the `ec2.Vpc` construct.\\n\\nThe `max_azs` parameter is set to 2, which will create subnets in 2 different availability zones. The `cidr` parameter specifies the IP address range for the VPC.\\n\\nThe `subnet_configuration` parameter is a list of `ec2.SubnetConfiguration` objects, which define the subnets to be created within the VPC. In this case, we create two subnet configurations:\\n\\n1. A public subnet with the name \"Public\" and subnet type `ec2.SubnetType.PUBLIC`.\\n2. A private subnet with the name \"Private\" and subnet type `ec2.SubnetType.PRIVATE_WITH_NAT`. This will create a private subnet with a NAT Gateway for internet access.\\n\\nThe `cidr_mask` parameter specifies the CIDR mask for the subnets (in this case, /24).\\n\\nFinally, we set `nat_gateways=1` to create a single NAT Gateway for the private subnets.\\n\\nAfter defining the stack, we create an instance of the `App` class and pass our `VpcStack` to it. Then, we call `app.synth()` to synthesize the CloudFormation template for the stack.\\n\\nWhen you deploy this stack, it will create a VPC with two subnets (one public and one private) in two different availability zones, along with a NAT Gateway for the private subnets.'"
      ]
     },
     "execution_count": 6,
     "metadata": {},
     "output_type": "execute_result"
    }
   ],
   "source": [
    "from langchain.chains import LLMChain\n",
    "from langchain_core.prompts import PromptTemplate\n",
    "\n",
    "prompt = PromptTemplate(\n",
    "    template=\"\"\"Generate AWS CDK python code to deploy AWS resources with the following properties. \n",
    "    You should follow the best practices and use the latest version of the AWS CDK.\n",
    "    Resources and properties:\n",
    "    {task}\n",
    "\n",
    "    Documentation: \n",
    "    {context}\n",
    "\"\"\",\n",
    "    input_variables=[\"task\", \"context\"], \n",
    ")\n",
    "\n",
    "llm_chain = LLMChain(\n",
    "    llm=cl_llm,\n",
    "    prompt=prompt,\n",
    ")\n",
    "llm_chain.run(task=\"VPC with 2 subnets in different availability zones\", context=concatenated_content)\n"
   ]
  },
  {
   "cell_type": "code",
   "execution_count": null,
   "metadata": {},
   "outputs": [],
   "source": []
  }
 ],
 "metadata": {
  "kernelspec": {
   "display_name": ".venv",
   "language": "python",
   "name": "python3"
  },
  "language_info": {
   "codemirror_mode": {
    "name": "ipython",
    "version": 3
   },
   "file_extension": ".py",
   "mimetype": "text/x-python",
   "name": "python",
   "nbconvert_exporter": "python",
   "pygments_lexer": "ipython3",
   "version": "3.11.8"
  }
 },
 "nbformat": 4,
 "nbformat_minor": 2
}
